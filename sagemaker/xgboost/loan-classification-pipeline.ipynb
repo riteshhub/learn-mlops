{
 "cells": [
  {
   "cell_type": "markdown",
   "id": "b91dc5b5-47c8-4c2e-9be7-23cdacf64732",
   "metadata": {
    "tags": []
   },
   "source": [
    "### Import Libraries"
   ]
  },
  {
   "cell_type": "code",
   "execution_count": null,
   "id": "785404ac-35ee-4305-9549-d97738d8392e",
   "metadata": {
    "tags": []
   },
   "outputs": [],
   "source": [
    "from sagemaker.workflow.parameters import ParameterInteger, ParameterString, ParameterFloat\n",
    "from sagemaker.sklearn.processing import SKLearnProcessor\n",
    "from sagemaker.estimator import Estimator\n",
    "from sagemaker.xgboost import XGBoostPredictor\n",
    "from sagemaker.workflow.steps import (ProcessingStep, TrainingInput, TuningStep, PropertyFile)\n",
    "from sagemaker.processing import (ProcessingInput, ProcessingOutput, ScriptProcessor)\n",
    "from sagemaker.model import Model\n",
    "from sagemaker.workflow.model_step import ModelStep\n",
    "from sagemaker.workflow.fail_step import FailStep\n",
    "from sagemaker.model_metrics import (MetricsSource, ModelMetrics)\n",
    "from sagemaker.workflow.functions import (Join, JsonGet)\n",
    "from sagemaker.workflow.conditions import ConditionGreaterThan\n",
    "from sagemaker.workflow.pipeline_definition_config import PipelineDefinitionConfig\n",
    "from sagemaker.workflow.condition_step import ConditionStep\n",
    "from sagemaker.workflow.pipeline import Pipeline\n",
    "from sagemaker.workflow.pipeline_context import PipelineSession, LocalPipelineSession\n",
    "from sagemaker.workflow.steps import CacheConfig\n",
    "from sagemaker.tuner import (ContinuousParameter, HyperparameterTuner)\n",
    "from time import strftime, gmtime\n",
    "import sagemaker\n",
    "import json"
   ]
  },
  {
   "cell_type": "markdown",
   "id": "b9c60eed-1e1c-4cab-a9c5-b8d6f7985ee5",
   "metadata": {
    "tags": []
   },
   "source": [
    "### Initialize Variables and Constants"
   ]
  },
  {
   "cell_type": "code",
   "execution_count": null,
   "id": "5a46f5f4-c381-4690-9f00-a846154f12ab",
   "metadata": {
    "tags": []
   },
   "outputs": [],
   "source": [
    "PROJECT = \"loan-classification\"\n",
    "\n",
    "\n",
    "sm_session = sagemaker.Session()\n",
    "region = sm_session.boto_session.region_name\n",
    "sm_role = sagemaker.get_execution_role()\n",
    "pipeline_session = PipelineSession()\n",
    "local_pipeline_session = LocalPipelineSession()\n",
    "current_timestamp = strftime('%m-%d-%H-%M', gmtime())\n",
    "FRAMEWORK = \"xgboost\"\n",
    "FRAMEWORK_VERSION = \"1.0-1\"\n",
    "\n",
    "BUCKET_NAME = sm_session.default_bucket()\n",
    "\n",
    "target_s3_prefix = f\"s3://{BUCKET_NAME}/{PROJECT}/{FRAMEWORK}\"\n",
    "train_s3_url = f\"{target_s3_prefix}/train\"\n",
    "validation_s3_url = f\"{target_s3_prefix}/validation\"\n",
    "test_s3_url = f\"{target_s3_prefix}/test\"\n",
    "evaluation_s3_url = f\"{target_s3_prefix}/evaluation\"\n",
    "input_s3_url = f\"{target_s3_prefix}/input\"\n",
    "\n",
    "base_job_name_param=f\"{PROJECT}-{FRAMEWORK}-job\"\n",
    "model_package_group_name=f\"{PROJECT}-{FRAMEWORK}-model-group\"\n",
    "pipeline_name = f\"{PROJECT}-{FRAMEWORK}-pipeline\"\n",
    "model_name = f\"{PROJECT}-{FRAMEWORK}-model\"\n",
    "endpoint_config_name = f\"{model_name}-endpoint-config\"\n",
    "endpoint_name = f\"{model_name}-endpoint\"\n",
    "\n",
    "cache_config = CacheConfig(enable_caching=True, expire_after=\"PT1H\")"
   ]
  },
  {
   "cell_type": "code",
   "execution_count": null,
   "id": "75ab99d5-090d-4050-ad21-e0aa88b1741a",
   "metadata": {
    "tags": []
   },
   "outputs": [],
   "source": [
    "# Set processing instance type\n",
    "process_instance_type_param = ParameterString(name=\"ProcessingInstanceType\", default_value=\"ml.t3.medium\")\n",
    "\n",
    "# Set process instance count\n",
    "process_instance_count_param = ParameterInteger(name=\"ProcessingInstanceCount\", default_value=1)\n",
    "\n",
    "# Set training instance type\n",
    "train_instance_type_param = ParameterString(name=\"TrainingInstanceType\", default_value=\"ml.m4.xlarge\")\n",
    "\n",
    "# Set inference instance type\n",
    "inference_instance_type_param = ParameterString(name=\"InferenceInstanceType\", default_value=\"ml.m4.xlarge\")\n",
    "\n",
    "# Set transform instance type\n",
    "transform_instance_type_param = ParameterString(name=\"TransformInstanceType\", default_value=\"ml.m4.xlarge\")\n",
    "\n",
    "# Set model approval status for the model registry\n",
    "model_approval_status_param = ParameterString(name=\"ModelApprovalStatus\", default_value=\"PendingManualApproval\")\n",
    "\n",
    "# Minimal threshold for model performance on the test dataset\n",
    "test_score_threshold_param = ParameterFloat(name=\"TestScoreThreshold\", default_value=0.75)\n",
    "\n",
    "input_s3_url_param = ParameterString(name=\"InputData\", default_value=input_s3_url)"
   ]
  },
  {
   "cell_type": "markdown",
   "id": "6beed6f2-853f-4c7a-ac58-da8b8c95a68c",
   "metadata": {
    "tags": []
   },
   "source": [
    "### Pre Processing Step"
   ]
  },
  {
   "cell_type": "code",
   "execution_count": null,
   "id": "047b914d-159a-4546-88e5-4d5d880ea986",
   "metadata": {
    "tags": []
   },
   "outputs": [],
   "source": [
    "# Upload processing script to S3\n",
    "sm_session.upload_data(\n",
    "    path=\"preprocessing.py\", bucket=BUCKET_NAME, key_prefix=f\"{PROJECT}/{FRAMEWORK}/scripts\"\n",
    ")\n",
    "\n",
    "sklearn_processor = SKLearnProcessor(\n",
    "    framework_version=FRAMEWORK_VERSION,\n",
    "    instance_type=process_instance_type_param,\n",
    "    instance_count=process_instance_count_param,\n",
    "    base_job_name=base_job_name_param,\n",
    "    sagemaker_session=pipeline_session,\n",
    "    role=sm_role,\n",
    ")\n",
    "\n",
    "processor_run_args = sklearn_processor.run(\n",
    "    inputs=[\n",
    "        ProcessingInput(source=input_s3_url_param, destination=\"/opt/ml/processing/input\")\n",
    "    ],\n",
    "    outputs=[\n",
    "        ProcessingOutput(output_name=\"train\", source=\"/opt/ml/processing/train\", destination=train_s3_url),\n",
    "        ProcessingOutput(output_name=\"validation\", source=\"/opt/ml/processing/validation\", destination=validation_s3_url),\n",
    "        ProcessingOutput(output_name=\"test\", source=\"/opt/ml/processing/test\", destination=test_s3_url)\n",
    "    ],\n",
    "    code=f\"{target_s3_prefix}/scripts/preprocessing.py\",\n",
    "    arguments=[\n",
    "        \"--filename\", \"LoanApprovalStatus.csv\"\n",
    "    ]\n",
    ")\n",
    "\n",
    "process_step = ProcessingStep(\n",
    "    name=\"PrePreprocess\",\n",
    "    step_args=processor_run_args,\n",
    "    cache_config=cache_config,\n",
    ")"
   ]
  },
  {
   "cell_type": "markdown",
   "id": "a766030f-0eec-438c-9f2a-acf2b6155ae1",
   "metadata": {
    "tags": []
   },
   "source": [
    "### Training Step"
   ]
  },
  {
   "cell_type": "code",
   "execution_count": null,
   "id": "f1f78081-c7b5-45a8-9709-34fc6b0ad95e",
   "metadata": {
    "tags": []
   },
   "outputs": [],
   "source": [
    "image_uri = sagemaker.image_uris.retrieve(\n",
    "    framework=FRAMEWORK,\n",
    "    region=region,\n",
    "    version=FRAMEWORK_VERSION,\n",
    "    py_version=\"py3\",\n",
    "    instance_type=\"local\",\n",
    ")\n",
    "\n",
    "estimator = Estimator(\n",
    "    image_uri=image_uri,\n",
    "    instance_type=train_instance_type_param,\n",
    "    instance_count=1,\n",
    "    output_path=f\"{target_s3_prefix}/hpo\",\n",
    "    code_location=f\"{target_s3_prefix}/hpo\",\n",
    "    base_job_name=base_job_name_param,\n",
    "    sagemaker_session=pipeline_session,\n",
    "    role=sm_role\n",
    ")\n",
    "\n",
    "estimator.set_hyperparameters(\n",
    "    eval_metric=\"auc,accuracy,f1\",\n",
    "    objective=\"binary:hinge\",  # Define the object metric for the training job\n",
    "    num_round=50,\n",
    "    max_depth=5,\n",
    "    eta=0.2,\n",
    "    gamma=4,\n",
    "    min_child_weight=6,\n",
    "    subsample=0.7,\n",
    ")\n",
    "\n",
    "objective_metric_name = \"validation:auc\"\n",
    "\n",
    "hyperparameter_ranges = {\n",
    "    \"alpha\": ContinuousParameter(0.01, 10, scaling_type=\"Logarithmic\"),\n",
    "    \"lambda\": ContinuousParameter(0.01, 10, scaling_type=\"Logarithmic\"),\n",
    "}\n",
    "\n",
    "tuner_job = HyperparameterTuner(\n",
    "    estimator,\n",
    "    objective_metric_name,\n",
    "    hyperparameter_ranges,\n",
    "    max_jobs=3,\n",
    "    max_parallel_jobs=3,\n",
    "    objective_type=\"Maximize\",\n",
    ")\n",
    "\n",
    "hpo_args = tuner_job.fit(\n",
    "    inputs={\n",
    "        \"train\": TrainingInput(\n",
    "            s3_data=process_step.properties.ProcessingOutputConfig.Outputs[\"train\"].S3Output.S3Uri,\n",
    "            content_type=\"text/csv\",\n",
    "        ),\n",
    "        \"validation\": TrainingInput(\n",
    "            s3_data=process_step.properties.ProcessingOutputConfig.Outputs[\"validation\"].S3Output.S3Uri,\n",
    "            content_type=\"text/csv\",\n",
    "        ),\n",
    "    }\n",
    ")\n",
    "\n",
    "tuning_step = TuningStep(\n",
    "    name=\"HyperParameterTuning\",\n",
    "    step_args=hpo_args,\n",
    "    cache_config=cache_config\n",
    ")"
   ]
  },
  {
   "cell_type": "markdown",
   "id": "3837da17-991a-49cf-984c-508f2b8e63e2",
   "metadata": {
    "tags": []
   },
   "source": [
    "### Evaluation Step"
   ]
  },
  {
   "cell_type": "code",
   "execution_count": null,
   "id": "e5d43845-baad-453a-90f4-ba97c6876f4a",
   "metadata": {
    "tags": []
   },
   "outputs": [],
   "source": [
    "# Upload evaluation script to S3\n",
    "sm_session.upload_data(\n",
    "    path=\"evaluation.py\", bucket=BUCKET_NAME, key_prefix=f\"{PROJECT}/{FRAMEWORK}/scripts\"\n",
    ")\n",
    "\n",
    "\n",
    "script_eval = ScriptProcessor(\n",
    "    image_uri=image_uri,\n",
    "    command=[\"python3\"],\n",
    "    instance_type=process_instance_type_param,\n",
    "    instance_count=1,\n",
    "    base_job_name=base_job_name_param,\n",
    "    sagemaker_session=pipeline_session,\n",
    "    role=sm_role,\n",
    ")\n",
    "\n",
    "evaluation_report = PropertyFile(\n",
    "    name=\"ModelEvaluationReport\",\n",
    "    output_name=\"evaluation\",\n",
    "    path=\"evaluation.json\",\n",
    ")\n",
    "\n",
    "processor_args = script_eval.run(\n",
    "    inputs=[\n",
    "        ProcessingInput(\n",
    "            source=tuning_step.get_top_model_s3_uri(top_k=0, s3_bucket=BUCKET_NAME, prefix=f\"{PROJECT}/{FRAMEWORK}/hpo\"),\n",
    "            destination=\"/opt/ml/processing/model\",\n",
    "        ),\n",
    "        ProcessingInput(\n",
    "            source=process_step.properties.ProcessingOutputConfig.Outputs[\"test\"].S3Output.S3Uri,\n",
    "            destination=\"/opt/ml/processing/test\",\n",
    "        ),\n",
    "    ],\n",
    "    outputs=[\n",
    "        ProcessingOutput(output_name=\"evaluation\", source=\"/opt/ml/processing/evaluation\", destination=evaluation_s3_url),\n",
    "    ],\n",
    "    code=f\"{target_s3_prefix}/scripts/evaluation.py\",\n",
    ")\n",
    "\n",
    "# This can be extended to evaluate multiple models from the HPO step\n",
    "evaluation_step = ProcessingStep(\n",
    "    name=\"EvaluateTopModel\",\n",
    "    step_args=processor_args,\n",
    "    property_files=[evaluation_report],\n",
    "    cache_config=cache_config,\n",
    ")"
   ]
  },
  {
   "cell_type": "markdown",
   "id": "fd93cb80-8d54-4ddb-803a-6e5e07e94947",
   "metadata": {
    "tags": []
   },
   "source": [
    "### Register Model Step"
   ]
  },
  {
   "cell_type": "code",
   "execution_count": null,
   "id": "51141453-48d1-490b-ba8f-8565e450677c",
   "metadata": {
    "tags": []
   },
   "outputs": [],
   "source": [
    "model = Model(\n",
    "    image_uri=image_uri,\n",
    "    model_data=tuning_step.get_top_model_s3_uri(top_k=0, s3_bucket=BUCKET_NAME, prefix=f\"{PROJECT}/{FRAMEWORK}/hpo\"),\n",
    "    predictor_cls=XGBoostPredictor,\n",
    "    sagemaker_session=pipeline_session,\n",
    "    role=sm_role,\n",
    ")\n",
    "\n",
    "model_metrics = ModelMetrics(\n",
    "    model_statistics=MetricsSource(\n",
    "        s3_uri=\"{}/evaluation.json\".format(\n",
    "            evaluation_step.arguments[\"ProcessingOutputConfig\"][\"Outputs\"][0][\"S3Output\"][\"S3Uri\"]\n",
    "        ),\n",
    "        content_type=\"application/json\",\n",
    "    )\n",
    ")\n",
    "\n",
    "register_args = model.register(\n",
    "    content_types=[\"text/csv\"],\n",
    "    response_types=[\"text/csv\"],\n",
    "    inference_instances=[inference_instance_type_param],\n",
    "    transform_instances=[transform_instance_type_param],\n",
    "    model_package_group_name=model_package_group_name,\n",
    "    approval_status=model_approval_status_param,\n",
    "    model_metrics=model_metrics\n",
    ")\n",
    "\n",
    "register_step = ModelStep(\n",
    "    name=\"Latest\",\n",
    "    step_args=register_args\n",
    ")"
   ]
  },
  {
   "cell_type": "markdown",
   "id": "5e534174-0e97-447d-8784-4fe55ff21469",
   "metadata": {
    "tags": []
   },
   "source": [
    "### Failed Step"
   ]
  },
  {
   "cell_type": "code",
   "execution_count": null,
   "id": "8954156c-4edc-4330-8ad1-a22f89e9e73d",
   "metadata": {
    "tags": []
   },
   "outputs": [],
   "source": [
    "fail_step = FailStep(\n",
    "    name=f\"ExpectationNotMet\",\n",
    "    error_message=Join(on=\" \", values=[\"Execution failed due to F1 score <\", test_score_threshold_param]),\n",
    ")"
   ]
  },
  {
   "cell_type": "markdown",
   "id": "3c1f6039-4cc5-4dc6-b587-d609f1959b05",
   "metadata": {
    "tags": []
   },
   "source": [
    "### Condition Step"
   ]
  },
  {
   "cell_type": "code",
   "execution_count": null,
   "id": "537c1647-ac2a-4c9f-8f06-efdbcb378b2a",
   "metadata": {
    "tags": []
   },
   "outputs": [],
   "source": [
    "cond_lte = ConditionGreaterThan(\n",
    "    left=JsonGet(\n",
    "        step_name=evaluation_step.name,\n",
    "        property_file=evaluation_report,\n",
    "        json_path=\"classification_metrics.f1.value\",\n",
    "    ),\n",
    "    right=test_score_threshold_param,\n",
    ")\n",
    "condition_step = ConditionStep(\n",
    "    name=\"F1Score-GreaterThan-Threshold\",\n",
    "    conditions=[cond_lte],\n",
    "    if_steps=[register_step],\n",
    "    else_steps=[fail_step],\n",
    ")"
   ]
  },
  {
   "cell_type": "markdown",
   "id": "a3c322fb-531f-44bd-86d0-b7b6060f4756",
   "metadata": {
    "tags": []
   },
   "source": [
    "### Pipeline"
   ]
  },
  {
   "cell_type": "code",
   "execution_count": null,
   "id": "26d21c6f-22a1-41c9-ac4c-2495beba2d6e",
   "metadata": {
    "tags": []
   },
   "outputs": [],
   "source": [
    "pipeline_def_config = PipelineDefinitionConfig(use_custom_job_prefix=True)\n",
    "\n",
    "pipeline = Pipeline(\n",
    "    name=pipeline_name,\n",
    "    parameters=[\n",
    "        process_instance_type_param,\n",
    "        process_instance_count_param,\n",
    "        train_instance_type_param,\n",
    "        inference_instance_type_param,\n",
    "        transform_instance_type_param,\n",
    "        model_approval_status_param,\n",
    "        test_score_threshold_param,\n",
    "        input_s3_url_param\n",
    "    ],\n",
    "    steps=[process_step, tuning_step, evaluation_step, condition_step],\n",
    "    sagemaker_session=pipeline_session,\n",
    "    pipeline_definition_config=pipeline_def_config\n",
    ")"
   ]
  },
  {
   "cell_type": "code",
   "execution_count": null,
   "id": "7dc8f652-dd58-49db-9941-fcd6699ba5d1",
   "metadata": {
    "tags": []
   },
   "outputs": [],
   "source": [
    "# Create a new or update existing Pipeline\n",
    "pipeline.upsert(role_arn=sm_role)\n",
    "\n",
    "pipeline_definition = json.loads(pipeline.describe()['PipelineDefinition'])\n",
    "pipeline_definition"
   ]
  },
  {
   "cell_type": "code",
   "execution_count": null,
   "id": "6fddae05-8965-4afa-98f6-f6844ce87855",
   "metadata": {},
   "outputs": [],
   "source": [
    "# # Execute Pipeline\n",
    "# pipeline.start(parameters=dict(\n",
    "#         ProcessingInstanceType='local',\n",
    "#         ProcessingInstanceCount=1,\n",
    "#         TrainingInstanceType='ml.m4.xlarge',\n",
    "#         InferenceInstanceType='ml.m4.medium',\n",
    "#         TransformInstanceType='ml.m4.xlarge',\n",
    "#         ModelApprovalStatus='PendingManualApproval',\n",
    "#         ModelPackageGroupName='project-model-group',\n",
    "#         InputData='s3_path_of_input_data'))"
   ]
  }
 ],
 "metadata": {
  "kernelspec": {
   "display_name": "conda_python3",
   "language": "python",
   "name": "conda_python3"
  },
  "language_info": {
   "codemirror_mode": {
    "name": "ipython",
    "version": 3
   },
   "file_extension": ".py",
   "mimetype": "text/x-python",
   "name": "python",
   "nbconvert_exporter": "python",
   "pygments_lexer": "ipython3",
   "version": "3.10.14"
  }
 },
 "nbformat": 4,
 "nbformat_minor": 5
}
